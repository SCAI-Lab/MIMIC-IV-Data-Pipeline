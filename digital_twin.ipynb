{
 "cells": [
  {
   "cell_type": "code",
   "execution_count": 1,
   "metadata": {},
   "outputs": [],
   "source": [
    "import ipywidgets as widgets\n",
    "import sys\n",
    "from pathlib import Path\n",
    "import os\n",
    "import importlib\n",
    "import model.evaluation as evaluation\n",
    "\n",
    "from digital_twin_ml_model import ML_models"
   ]
  },
  {
   "cell_type": "code",
   "execution_count": 2,
   "metadata": {},
   "outputs": [
    {
     "name": "stdout",
     "output_type": "stream",
     "text": [
      "=======Machine :earning Models=======\n"
     ]
    },
    {
     "data": {
      "application/vnd.jupyter.widget-view+json": {
       "model_id": "5a3fcc88d3574973a78a77e437567e30",
       "version_major": 2,
       "version_minor": 0
      },
      "text/plain": [
       "RadioButtons(options=('Logistic Regression', 'Random Forest', 'Gradient Bossting', 'Xgboost'), value='Logistic…"
      ]
     },
     "metadata": {},
     "output_type": "display_data"
    },
    {
     "name": "stdout",
     "output_type": "stream",
     "text": [
      "Do you wnat to conactenate the time-series feature\n"
     ]
    },
    {
     "data": {
      "application/vnd.jupyter.widget-view+json": {
       "model_id": "f65224cfd5c44f65a1babe40c989fcfa",
       "version_major": 2,
       "version_minor": 0
      },
      "text/plain": [
       "RadioButtons(options=('Conactenate', 'Aggregate'), value='Conactenate')"
      ]
     },
     "metadata": {},
     "output_type": "display_data"
    },
    {
     "name": "stdout",
     "output_type": "stream",
     "text": [
      "Please select below option for cross-validation\n"
     ]
    },
    {
     "data": {
      "application/vnd.jupyter.widget-view+json": {
       "model_id": "f0b4756cc8d14153b9409ceca4cd84c5",
       "version_major": 2,
       "version_minor": 0
      },
      "text/plain": [
       "RadioButtons(index=1, options=('No CV', '5-fold CV', '10-fold CV'), value='5-fold CV')"
      ]
     },
     "metadata": {},
     "output_type": "display_data"
    },
    {
     "name": "stdout",
     "output_type": "stream",
     "text": [
      "Do you want to do oversampling for minority calss ?\n"
     ]
    },
    {
     "data": {
      "application/vnd.jupyter.widget-view+json": {
       "model_id": "96f610dc440f465c8d4eae5c262f05e5",
       "version_major": 2,
       "version_minor": 0
      },
      "text/plain": [
       "RadioButtons(options=('True', 'False'), value='True')"
      ]
     },
     "metadata": {},
     "output_type": "display_data"
    }
   ],
   "source": [
    "print(\"=======Machine :earning Models=======\")\n",
    "radio_input5 = widgets.RadioButtons(options=['Logistic Regression','Random Forest','Gradient Bossting','Xgboost'],value='Logistic Regression')\n",
    "display(radio_input5)\n",
    "print(\"Do you wnat to conactenate the time-series feature\")\n",
    "radio_input6 = widgets.RadioButtons(options=['Conactenate','Aggregate'],value='Conactenate')\n",
    "display(radio_input6)\n",
    "print(\"Please select below option for cross-validation\")\n",
    "radio_input7 = widgets.RadioButtons(options=['No CV','5-fold CV','10-fold CV'],value='5-fold CV')\n",
    "display(radio_input7)\n",
    "print(\"Do you want to do oversampling for minority calss ?\")\n",
    "radio_input8 = widgets.RadioButtons(options=['True','False'],value='True')\n",
    "display(radio_input8)"
   ]
  },
  {
   "cell_type": "code",
   "execution_count": 3,
   "metadata": {},
   "outputs": [
    {
     "name": "stdout",
     "output_type": "stream",
     "text": [
      "Total Samples 23472\n",
      "Positive Samples 2798\n",
      "=============OVERSAMPLING===============\n",
      "Total Samples 41348\n",
      "Positive Samples 20674\n",
      "=================== 0 FOLD=====================\n",
      "train_hids 33076\n"
     ]
    }
   ],
   "source": [
    "data_icu = True\n",
    "\n",
    "if radio_input7.value=='No CV':\n",
    "    cv=0\n",
    "elif radio_input7.value=='5-fold CV':\n",
    "    cv=int(5)\n",
    "elif radio_input7.value=='10-fold CV':\n",
    "    cv=int(10)\n",
    "ml=ML_models(data_icu,cv,radio_input5.value,concat=radio_input6.value=='Conactenate',oversampling=radio_input8.value=='True')"
   ]
  },
  {
   "cell_type": "code",
   "execution_count": null,
   "metadata": {},
   "outputs": [],
   "source": []
  },
  {
   "cell_type": "code",
   "execution_count": null,
   "metadata": {},
   "outputs": [],
   "source": []
  }
 ],
 "metadata": {
  "kernelspec": {
   "display_name": "mimic-iv-38",
   "language": "python",
   "name": "python3"
  },
  "language_info": {
   "codemirror_mode": {
    "name": "ipython",
    "version": 3
   },
   "file_extension": ".py",
   "mimetype": "text/x-python",
   "name": "python",
   "nbconvert_exporter": "python",
   "pygments_lexer": "ipython3",
   "version": "3.8.19"
  }
 },
 "nbformat": 4,
 "nbformat_minor": 2
}
